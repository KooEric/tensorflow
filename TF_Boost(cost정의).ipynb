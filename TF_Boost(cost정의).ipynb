{
  "nbformat": 4,
  "nbformat_minor": 0,
  "metadata": {
    "colab": {
      "name": "TF_Boost(cost정의)",
      "provenance": [],
      "collapsed_sections": []
    },
    "kernelspec": {
      "name": "python3",
      "display_name": "Python 3"
    },
    "accelerator": "GPU"
  },
  "cells": [
    {
      "cell_type": "code",
      "metadata": {
        "id": "a4o-9CTkuQir"
      },
      "source": [
        "import tensorflow as tf\n",
        "tf.enable_eager_excution()\n",
        "#Data\n",
        "x_data = [1,2,3,4,5]\n",
        "y_data = [1,2,3,4,5]\n",
        "#W,b initialize\n",
        "W = tf.Variable(2.9)\n",
        "b = tf.Variable(0.5)\n",
        "#가설 정의 ( 텐서 플로우 )\n",
        "hypothesis = W * x_data + b"
      ],
      "execution_count": null,
      "outputs": []
    },
    {
      "cell_type": "code",
      "metadata": {
        "id": "9QudWrnCuxDC"
      },
      "source": [
        "#cost값 정의 (텐서플로우)\n",
        "cost = tf.reduce_mean(tf.square(hypothesis - y_data))"
      ],
      "execution_count": null,
      "outputs": []
    },
    {
      "cell_type": "code",
      "metadata": {
        "id": "FNIiLkE7vESC",
        "colab": {
          "base_uri": "https://localhost:8080/",
          "height": 36
        },
        "outputId": "27b78751-ea22-4e2b-dee0-da582abad936"
      },
      "source": [
        "v = [1.,2.,3.,4.]\n",
        "tf.reduce_mean(v)"
      ],
      "execution_count": null,
      "outputs": [
        {
          "output_type": "execute_result",
          "data": {
            "text/plain": [
              "<tf.Tensor: shape=(), dtype=float32, numpy=2.5>"
            ]
          },
          "metadata": {
            "tags": []
          },
          "execution_count": 4
        }
      ]
    },
    {
      "cell_type": "code",
      "metadata": {
        "id": "Yqiq3aObwBaF",
        "colab": {
          "base_uri": "https://localhost:8080/",
          "height": 36
        },
        "outputId": "b92b155e-2701-4892-8e55-f5fae9e18fa4"
      },
      "source": [
        "tf.square(3)"
      ],
      "execution_count": null,
      "outputs": [
        {
          "output_type": "execute_result",
          "data": {
            "text/plain": [
              "<tf.Tensor: shape=(), dtype=int32, numpy=9>"
            ]
          },
          "metadata": {
            "tags": []
          },
          "execution_count": 5
        }
      ]
    },
    {
      "cell_type": "code",
      "metadata": {
        "id": "V5RMpQtVwF9D",
        "colab": {
          "base_uri": "https://localhost:8080/",
          "height": 36
        },
        "outputId": "311935ed-31f8-4834-d6a5-0a425c9c9f76"
      },
      "source": [
        "#Gradient descent 경사하강법\n",
        "\n",
        "#learning rate initialize\n",
        "learning_rate = 0.01\n",
        "\n",
        "#Gradient descent\n",
        "with tf.GradientTape() as tape: #테이프에 기록\n",
        "    hypothesis = W * x_data + b\n",
        "    cost = tf.reduce_mean(tf.square(hypothesis - y_data))\n",
        "\n",
        "W_grad, b_grad = tape.gradient(cost, [W, b])\n",
        "\n",
        "#A.assign_sub(B)\n",
        "#A = A - B\n",
        "#A -= B\n",
        "W.assign_sub(learning_rate * W_grad)\n",
        "b.assign_sub(learning_rate * b_grad)"
      ],
      "execution_count": null,
      "outputs": [
        {
          "output_type": "execute_result",
          "data": {
            "text/plain": [
              "<tf.Variable 'UnreadVariable' shape=() dtype=float32, numpy=0.376>"
            ]
          },
          "metadata": {
            "tags": []
          },
          "execution_count": 6
        }
      ]
    },
    {
      "cell_type": "code",
      "source": [
        ""
      ],
      "metadata": {
        "id": "ynzP_jWmOg2P"
      },
      "execution_count": null,
      "outputs": []
    },
    {
      "cell_type": "code",
      "metadata": {
        "id": "GEl-iPJkxYg9",
        "colab": {
          "base_uri": "https://localhost:8080/",
          "height": 204
        },
        "outputId": "25eb826f-5024-47f5-9228-1004b79df3a6"
      },
      "source": [
        "for i in range(100+1):\n",
        "    with tf.GradientTape() as tape: #테이프에 기록\n",
        "        hypothesis = W * x_data + b\n",
        "        cost = tf.reduce_mean(tf.square(hypothesis - y_data))\n",
        "\n",
        "    W_grad, b_grad = tape.gradient(cost, [W, b])\n",
        "\n",
        "    W.assign_sub(learning_rate * W_grad)\n",
        "    b.assign_sub(learning_rate * b_grad)\n",
        "    if i % 10 == 0:\n",
        "        print(\"{:5}|{:10.4}|{:10.4}|{:10.6f}\".format(i, W.numpy(),b.numpy(),cost))"
      ],
      "execution_count": null,
      "outputs": [
        {
          "output_type": "stream",
          "text": [
            "    0|      2.11|    0.2814| 26.608438\n",
            "   10|     1.081| -0.002888|  0.120284\n",
            "   20|     1.011|  -0.02127|  0.000637\n",
            "   30|     1.006|   -0.0218|  0.000090\n",
            "   40|     1.006|  -0.02116|  0.000082\n",
            "   50|     1.006|  -0.02046|  0.000077\n",
            "   60|     1.005|  -0.01978|  0.000072\n",
            "   70|     1.005|  -0.01912|  0.000067\n",
            "   80|     1.005|  -0.01848|  0.000063\n",
            "   90|     1.005|  -0.01787|  0.000058\n"
          ],
          "name": "stdout"
        }
      ]
    },
    {
      "cell_type": "code",
      "metadata": {
        "id": "HL3lvOsvyUxr"
      },
      "source": [
        ""
      ],
      "execution_count": null,
      "outputs": []
    }
  ]
}