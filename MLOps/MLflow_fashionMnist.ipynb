{
 "cells": [
  {
   "cell_type": "code",
   "execution_count": 1,
   "metadata": {
    "collapsed": true
   },
   "outputs": [
    {
     "name": "stdout",
     "output_type": "stream",
     "text": [
      "Collecting mlflow\r\n",
      "  Downloading mlflow-1.27.0-py3-none-any.whl (17.9 MB)\r\n",
      "\u001B[K     |████████████████████████████████| 17.9 MB 1.8 MB/s eta 0:00:01\r\n",
      "\u001B[?25hRequirement already satisfied: scipy in /Users/yhkoo/miniforge3/envs/deepLearning/lib/python3.8/site-packages (from mlflow) (1.8.0)\r\n",
      "Requirement already satisfied: importlib-metadata!=4.7.0,>=3.7.0 in /Users/yhkoo/miniforge3/envs/deepLearning/lib/python3.8/site-packages (from mlflow) (4.11.3)\r\n",
      "Requirement already satisfied: requests>=2.17.3 in /Users/yhkoo/miniforge3/envs/deepLearning/lib/python3.8/site-packages (from mlflow) (2.27.1)\r\n",
      "Collecting querystring-parser\r\n",
      "  Downloading querystring_parser-1.2.4-py2.py3-none-any.whl (7.9 kB)\r\n",
      "Collecting gunicorn\r\n",
      "  Downloading gunicorn-20.1.0-py3-none-any.whl (79 kB)\r\n",
      "\u001B[K     |████████████████████████████████| 79 kB 7.7 MB/s eta 0:00:011\r\n",
      "\u001B[?25hRequirement already satisfied: pytz in /Users/yhkoo/miniforge3/envs/deepLearning/lib/python3.8/site-packages (from mlflow) (2021.3)\r\n",
      "Collecting alembic\r\n",
      "  Downloading alembic-1.8.0-py3-none-any.whl (209 kB)\r\n",
      "\u001B[K     |████████████████████████████████| 209 kB 3.0 MB/s eta 0:00:01\r\n",
      "\u001B[?25hCollecting Flask\r\n",
      "  Downloading Flask-2.1.2-py3-none-any.whl (95 kB)\r\n",
      "\u001B[K     |████████████████████████████████| 95 kB 1.7 MB/s eta 0:00:01\r\n",
      "\u001B[?25hRequirement already satisfied: pandas in /Users/yhkoo/miniforge3/envs/deepLearning/lib/python3.8/site-packages (from mlflow) (1.4.2)\r\n",
      "Collecting databricks-cli>=0.8.7\r\n",
      "  Downloading databricks-cli-0.17.0.tar.gz (81 kB)\r\n",
      "\u001B[K     |████████████████████████████████| 81 kB 1.8 MB/s eta 0:00:01\r\n",
      "\u001B[?25hRequirement already satisfied: packaging in /Users/yhkoo/miniforge3/envs/deepLearning/lib/python3.8/site-packages (from mlflow) (21.3)\r\n",
      "Requirement already satisfied: click>=7.0 in /Users/yhkoo/miniforge3/envs/deepLearning/lib/python3.8/site-packages (from mlflow) (8.0.4)\r\n",
      "Collecting sqlparse>=0.3.1\r\n",
      "  Downloading sqlparse-0.4.2-py3-none-any.whl (42 kB)\r\n",
      "\u001B[K     |████████████████████████████████| 42 kB 2.4 MB/s eta 0:00:01\r\n",
      "\u001B[?25hCollecting prometheus-flask-exporter\r\n",
      "  Downloading prometheus_flask_exporter-0.20.2-py3-none-any.whl (18 kB)\r\n",
      "Requirement already satisfied: protobuf>=3.12.0 in /Users/yhkoo/miniforge3/envs/deepLearning/lib/python3.8/site-packages (from mlflow) (3.19.4)\r\n",
      "Collecting sqlalchemy>=1.4.0\r\n",
      "  Downloading SQLAlchemy-1.4.39.tar.gz (8.2 MB)\r\n",
      "\u001B[K     |████████████████████████████████| 8.2 MB 4.1 MB/s eta 0:00:01\r\n",
      "\u001B[?25hRequirement already satisfied: numpy in /Users/yhkoo/miniforge3/envs/deepLearning/lib/python3.8/site-packages (from mlflow) (1.21.5)\r\n",
      "Requirement already satisfied: entrypoints in /Users/yhkoo/miniforge3/envs/deepLearning/lib/python3.8/site-packages (from mlflow) (0.4)\r\n",
      "Collecting gitpython>=2.1.0\r\n",
      "  Downloading GitPython-3.1.27-py3-none-any.whl (181 kB)\r\n",
      "\u001B[K     |████████████████████████████████| 181 kB 3.7 MB/s eta 0:00:01\r\n",
      "\u001B[?25hRequirement already satisfied: pyyaml>=5.1 in /Users/yhkoo/miniforge3/envs/deepLearning/lib/python3.8/site-packages (from mlflow) (6.0)\r\n",
      "Collecting cloudpickle\r\n",
      "  Downloading cloudpickle-2.1.0-py3-none-any.whl (25 kB)\r\n",
      "Collecting docker>=4.0.0\r\n",
      "  Downloading docker-5.0.3-py2.py3-none-any.whl (146 kB)\r\n",
      "\u001B[K     |████████████████████████████████| 146 kB 4.3 MB/s eta 0:00:01\r\n",
      "\u001B[?25hRequirement already satisfied: pyjwt>=1.7.0 in /Users/yhkoo/miniforge3/envs/deepLearning/lib/python3.8/site-packages (from databricks-cli>=0.8.7->mlflow) (2.3.0)\r\n",
      "Requirement already satisfied: oauthlib>=3.1.0 in /Users/yhkoo/miniforge3/envs/deepLearning/lib/python3.8/site-packages (from databricks-cli>=0.8.7->mlflow) (3.2.0)\r\n",
      "Collecting tabulate>=0.7.7\r\n",
      "  Downloading tabulate-0.8.10-py3-none-any.whl (29 kB)\r\n",
      "Requirement already satisfied: six>=1.10.0 in /Users/yhkoo/miniforge3/envs/deepLearning/lib/python3.8/site-packages (from databricks-cli>=0.8.7->mlflow) (1.16.0)\r\n",
      "Collecting websocket-client>=0.32.0\r\n",
      "  Downloading websocket_client-1.3.3-py3-none-any.whl (54 kB)\r\n",
      "\u001B[K     |████████████████████████████████| 54 kB 2.8 MB/s eta 0:00:01\r\n",
      "\u001B[?25hCollecting gitdb<5,>=4.0.1\r\n",
      "  Downloading gitdb-4.0.9-py3-none-any.whl (63 kB)\r\n",
      "\u001B[K     |████████████████████████████████| 63 kB 3.3 MB/s eta 0:00:01\r\n",
      "\u001B[?25hCollecting smmap<6,>=3.0.1\r\n",
      "  Downloading smmap-5.0.0-py3-none-any.whl (24 kB)\r\n",
      "Requirement already satisfied: zipp>=0.5 in /Users/yhkoo/miniforge3/envs/deepLearning/lib/python3.8/site-packages (from importlib-metadata!=4.7.0,>=3.7.0->mlflow) (3.8.0)\r\n",
      "Requirement already satisfied: idna<4,>=2.5 in /Users/yhkoo/miniforge3/envs/deepLearning/lib/python3.8/site-packages (from requests>=2.17.3->mlflow) (3.3)\r\n",
      "Requirement already satisfied: charset-normalizer~=2.0.0 in /Users/yhkoo/miniforge3/envs/deepLearning/lib/python3.8/site-packages (from requests>=2.17.3->mlflow) (2.0.12)\r\n",
      "Requirement already satisfied: certifi>=2017.4.17 in /Users/yhkoo/miniforge3/envs/deepLearning/lib/python3.8/site-packages (from requests>=2.17.3->mlflow) (2021.10.8)\r\n",
      "Requirement already satisfied: urllib3<1.27,>=1.21.1 in /Users/yhkoo/miniforge3/envs/deepLearning/lib/python3.8/site-packages (from requests>=2.17.3->mlflow) (1.26.9)\r\n",
      "Requirement already satisfied: importlib-resources in /Users/yhkoo/miniforge3/envs/deepLearning/lib/python3.8/site-packages (from alembic->mlflow) (5.2.0)\r\n",
      "Collecting Mako\r\n",
      "  Downloading Mako-1.2.0-py3-none-any.whl (78 kB)\r\n",
      "\u001B[K     |████████████████████████████████| 78 kB 2.7 MB/s eta 0:00:01\r\n",
      "\u001B[?25hRequirement already satisfied: Jinja2>=3.0 in /Users/yhkoo/miniforge3/envs/deepLearning/lib/python3.8/site-packages (from Flask->mlflow) (3.0.3)\r\n",
      "Requirement already satisfied: Werkzeug>=2.0 in /Users/yhkoo/miniforge3/envs/deepLearning/lib/python3.8/site-packages (from Flask->mlflow) (2.1.1)\r\n",
      "Collecting itsdangerous>=2.0\r\n",
      "  Downloading itsdangerous-2.1.2-py3-none-any.whl (15 kB)\r\n",
      "Requirement already satisfied: MarkupSafe>=2.0 in /Users/yhkoo/miniforge3/envs/deepLearning/lib/python3.8/site-packages (from Jinja2>=3.0->Flask->mlflow) (2.0.1)\r\n",
      "Requirement already satisfied: setuptools>=3.0 in /Users/yhkoo/miniforge3/envs/deepLearning/lib/python3.8/site-packages (from gunicorn->mlflow) (61.2.0)\r\n",
      "Requirement already satisfied: pyparsing!=3.0.5,>=2.0.2 in /Users/yhkoo/miniforge3/envs/deepLearning/lib/python3.8/site-packages (from packaging->mlflow) (3.0.4)\r\n",
      "Requirement already satisfied: python-dateutil>=2.8.1 in /Users/yhkoo/miniforge3/envs/deepLearning/lib/python3.8/site-packages (from pandas->mlflow) (2.8.2)\r\n",
      "Requirement already satisfied: prometheus-client in /Users/yhkoo/miniforge3/envs/deepLearning/lib/python3.8/site-packages (from prometheus-flask-exporter->mlflow) (0.13.1)\r\n",
      "Building wheels for collected packages: databricks-cli, sqlalchemy\r\n",
      "  Building wheel for databricks-cli (setup.py) ... \u001B[?25ldone\r\n",
      "\u001B[?25h  Created wheel for databricks-cli: filename=databricks_cli-0.17.0-py3-none-any.whl size=141954 sha256=ccf80f1228be421bf95ef79348ba5cd11200ca42a1bc8b8e0311f4d1b1122d43\r\n",
      "  Stored in directory: /Users/yhkoo/Library/Caches/pip/wheels/bc/ef/2a/18885b70c6b78d4b9612ef2bf4bfdc7325f43db9d817d20f3f\r\n",
      "  Building wheel for sqlalchemy (setup.py) ... \u001B[?25ldone\r\n",
      "\u001B[?25h  Created wheel for sqlalchemy: filename=SQLAlchemy-1.4.39-cp38-cp38-macosx_11_0_arm64.whl size=1543421 sha256=af31ca09b634e67bbb07539ae47b5e0bfa82ea8d979c38e8eb95dd74be31bc76\r\n",
      "  Stored in directory: /Users/yhkoo/Library/Caches/pip/wheels/fd/23/d9/83cf0a115afbfbb5870c987b1c574deb16824842bea50b13c8\r\n",
      "Successfully built databricks-cli sqlalchemy\r\n",
      "Installing collected packages: smmap, itsdangerous, websocket-client, tabulate, sqlalchemy, Mako, gitdb, Flask, sqlparse, querystring-parser, prometheus-flask-exporter, gunicorn, gitpython, docker, databricks-cli, cloudpickle, alembic, mlflow\r\n",
      "Successfully installed Flask-2.1.2 Mako-1.2.0 alembic-1.8.0 cloudpickle-2.1.0 databricks-cli-0.17.0 docker-5.0.3 gitdb-4.0.9 gitpython-3.1.27 gunicorn-20.1.0 itsdangerous-2.1.2 mlflow-1.27.0 prometheus-flask-exporter-0.20.2 querystring-parser-1.2.4 smmap-5.0.0 sqlalchemy-1.4.39 sqlparse-0.4.2 tabulate-0.8.10 websocket-client-1.3.3\r\n",
      "\u001B[33mWARNING: You are using pip version 22.0.4; however, version 22.1.2 is available.\r\n",
      "You should consider upgrading via the '/Users/yhkoo/miniforge3/envs/deepLearning/bin/python -m pip install --upgrade pip' command.\u001B[0m\r\n"
     ]
    }
   ],
   "source": [
    "!pip install mlflow"
   ]
  },
  {
   "cell_type": "code",
   "execution_count": 1,
   "outputs": [
    {
     "name": "stdout",
     "output_type": "stream",
     "text": [
      "Tensorflow : 2.7.0\n",
      "scikit-learn : 1.0.2\n",
      "Numpy : 1.21.5\n",
      "MLFlow : 1.27.0\n",
      "Matplotlib : 3.5.1\n"
     ]
    }
   ],
   "source": [
    "import tensorflow as tf\n",
    "from tensorflow.keras.models import Sequential\n",
    "from tensorflow.keras.callbacks import ModelCheckpoint\n",
    "from tensorflow.keras.layers import Dense, Flatten\n",
    "from tensorflow.keras.datasets import fashion_mnist\n",
    "import numpy as np\n",
    "import matplotlib\n",
    "import matplotlib.pyplot as plt\n",
    "import sklearn\n",
    "from sklearn.metrics import roc_auc_score\n",
    "import mlflow\n",
    "import mlflow.tensorflow\n",
    "\n",
    "print(f\"Tensorflow : {tf.__version__}\")\n",
    "print(f\"scikit-learn : {sklearn.__version__}\")\n",
    "print(f\"Numpy : {np.__version__}\")\n",
    "print(f\"MLFlow : {mlflow.__version__}\")\n",
    "print(f\"Matplotlib : {matplotlib.__version__}\")"
   ],
   "metadata": {
    "collapsed": false,
    "pycharm": {
     "name": "#%%\n"
    }
   }
  },
  {
   "cell_type": "code",
   "execution_count": 2,
   "outputs": [],
   "source": [
    "(x_train, y_train), (x_test, y_test) = fashion_mnist.load_data()\n",
    "x_train = x_train.reshape(x_train.shape[0],x_train.shape[1], x_train.shape[2], 1)\n",
    "x_test = x_test.reshape(x_test.shape[0], x_test.shape[1], x_test.shape[2], 1)\n",
    "\n",
    "y_train = tf.keras.utils.to_categorical(y_train)\n",
    "y_test = tf.keras.utils.to_categorical(y_test)"
   ],
   "metadata": {
    "collapsed": false,
    "pycharm": {
     "name": "#%%\n"
    }
   }
  },
  {
   "cell_type": "code",
   "execution_count": 3,
   "outputs": [
    {
     "name": "stdout",
     "output_type": "stream",
     "text": [
      "Class:  [0. 0. 0. 0. 0. 0. 0. 0. 0. 1.]\n"
     ]
    },
    {
     "data": {
      "text/plain": "(<matplotlib.image.AxesImage at 0x280949c70>, None)"
     },
     "execution_count": 3,
     "metadata": {},
     "output_type": "execute_result"
    },
    {
     "data": {
      "text/plain": "<Figure size 432x288 with 1 Axes>",
      "image/png": "[encoded data removed]"
     },
     "metadata": {
      "needs_background": "light"
     },
     "output_type": "display_data"
    }
   ],
   "source": [
    "plt.imshow(x_train[0], cmap = 'gray'), print(\"Class: \", y_train[0])"
   ],
   "metadata": {
    "collapsed": false,
    "pycharm": {
     "name": "#%%\n"
    }
   }
  },
  {
   "cell_type": "code",
   "execution_count": 4,
   "outputs": [
    {
     "data": {
      "text/plain": "array([0., 0., 0., 0., 0., 0., 0., 0., 0., 1.], dtype=float32)"
     },
     "execution_count": 4,
     "metadata": {},
     "output_type": "execute_result"
    }
   ],
   "source": [
    "y_train[0]"
   ],
   "metadata": {
    "collapsed": false,
    "pycharm": {
     "name": "#%%\n"
    }
   }
  },
  {
   "cell_type": "code",
   "execution_count": 5,
   "outputs": [
    {
     "name": "stdout",
     "output_type": "stream",
     "text": [
      "Shapes\n",
      "x_train : (60000, 28, 28, 1)\n",
      "y_train : (60000, 10)\n",
      "x_test : (10000, 28, 28, 1)\n",
      "y_test : (10000, 10)\n"
     ]
    }
   ],
   "source": [
    "print(\"Shapes\")\n",
    "print(f\"x_train : {x_train.shape}\")\n",
    "print(f\"y_train : {y_train.shape}\")\n",
    "print(f\"x_test : {x_test.shape}\")\n",
    "print(f\"y_test : {y_test.shape}\")"
   ],
   "metadata": {
    "collapsed": false,
    "pycharm": {
     "name": "#%%\n"
    }
   }
  },
  {
   "cell_type": "code",
   "execution_count": 6,
   "outputs": [
    {
     "name": "stdout",
     "output_type": "stream",
     "text": [
      "Metal device set to: Apple M1 Pro\n",
      "Model: \"sequential\"\n",
      "_________________________________________________________________\n",
      " Layer (type)                Output Shape              Param #   \n",
      "=================================================================\n",
      " reshape (Reshape)           (None, 28, 28, 1)         0         \n",
      "                                                                 \n",
      " conv2d (Conv2D)             (None, 26, 26, 64)        640       \n",
      "                                                                 \n",
      " max_pooling2d (MaxPooling2D  (None, 13, 13, 64)       0         \n",
      " )                                                               \n",
      "                                                                 \n",
      " conv2d_1 (Conv2D)           (None, 11, 11, 64)        36928     \n",
      "                                                                 \n",
      " max_pooling2d_1 (MaxPooling  (None, 5, 5, 64)         0         \n",
      " 2D)                                                             \n",
      "                                                                 \n",
      " flatten (Flatten)           (None, 1600)              0         \n",
      "                                                                 \n",
      " dense (Dense)               (None, 64)                102464    \n",
      "                                                                 \n",
      " dense_1 (Dense)             (None, 32)                2080      \n",
      "                                                                 \n",
      " dense_2 (Dense)             (None, 10)                330       \n",
      "                                                                 \n",
      "=================================================================\n",
      "Total params: 142,442\n",
      "Trainable params: 142,442\n",
      "Non-trainable params: 0\n",
      "_________________________________________________________________\n"
     ]
    },
    {
     "name": "stderr",
     "output_type": "stream",
     "text": [
      "2022-07-11 23:42:08.845085: I tensorflow/core/common_runtime/pluggable_device/pluggable_device_factory.cc:305] Could not identify NUMA node of platform GPU ID 0, defaulting to 0. Your kernel may not have been built with NUMA support.\n",
      "2022-07-11 23:42:08.845218: I tensorflow/core/common_runtime/pluggable_device/pluggable_device_factory.cc:271] Created TensorFlow device (/job:localhost/replica:0/task:0/device:GPU:0 with 0 MB memory) -> physical PluggableDevice (device: 0, name: METAL, pci bus id: <undefined>)\n"
     ]
    }
   ],
   "source": [
    "# 모델 정의\n",
    "model = Sequential([\n",
    "    tf.keras.layers.Reshape((28, 28, 1), input_shape=(28, 28)),\n",
    "    tf.keras.layers.Conv2D(64, (3, 3), activation='relu'),\n",
    "    tf.keras.layers.MaxPooling2D(2, 2),\n",
    "    tf.keras.layers.Conv2D(64, (3, 3), activation='relu'),\n",
    "    tf.keras.layers.MaxPooling2D(2, 2),\n",
    "    tf.keras.layers.Flatten(),\n",
    "    tf.keras.layers.Dense(64, activation='relu'),\n",
    "    tf.keras.layers.Dense(32, activation='relu'),\n",
    "    tf.keras.layers.Dense(10, activation='softmax'),\n",
    "])\n",
    "model.summary()"
   ],
   "metadata": {
    "collapsed": false,
    "pycharm": {
     "name": "#%%\n"
    }
   }
  },
  {
   "cell_type": "code",
   "execution_count": 7,
   "outputs": [],
   "source": [
    "# 컴파일\n",
    "model.compile(optimizer='Adam', loss='categorical_crossentropy', metrics=['acc'])\n",
    "\n",
    "# 체크포인트\n",
    "checkpoint_path = 'my_checkpoint.ckpt'\n",
    "checkpoint = ModelCheckpoint(filepath = checkpoint_path,\n",
    "                             save_weights_only = True,\n",
    "                             save_best_only = True,\n",
    "                             monitor='val_loss',\n",
    "                             verbose=1)"
   ],
   "metadata": {
    "collapsed": false,
    "pycharm": {
     "name": "#%%\n"
    }
   }
  },
  {
   "cell_type": "code",
   "execution_count": 8,
   "outputs": [
    {
     "name": "stderr",
     "output_type": "stream",
     "text": [
      "2022/07/11 23:42:08 INFO mlflow.tracking.fluent: Experiment with name 'TF_Keras_fashionMnist' does not exist. Creating a new experiment.\n",
      "2022-07-11 23:42:09.145428: W tensorflow/core/platform/profile_utils/cpu_utils.cc:128] Failed to get CPU frequency: 0 Hz\n"
     ]
    },
    {
     "name": "stdout",
     "output_type": "stream",
     "text": [
      "Epoch 1/20\n",
      "   1/1875 [..............................] - ETA: 11:39 - loss: 16.2703 - acc: 0.0625"
     ]
    },
    {
     "name": "stderr",
     "output_type": "stream",
     "text": [
      "2022-07-11 23:42:09.372273: I tensorflow/core/grappler/optimizers/custom_graph_optimizer_registry.cc:112] Plugin optimizer for device_type GPU is enabled.\n"
     ]
    },
    {
     "name": "stdout",
     "output_type": "stream",
     "text": [
      "1875/1875 [==============================] - ETA: 0s - loss: 0.5299 - acc: 0.8242"
     ]
    },
    {
     "name": "stderr",
     "output_type": "stream",
     "text": [
      "2022-07-11 23:42:28.146153: I tensorflow/core/grappler/optimizers/custom_graph_optimizer_registry.cc:112] Plugin optimizer for device_type GPU is enabled.\n"
     ]
    },
    {
     "name": "stdout",
     "output_type": "stream",
     "text": [
      "\n",
      "Epoch 00001: val_loss improved from inf to 0.37353, saving model to my_checkpoint.ckpt\n",
      "1875/1875 [==============================] - 21s 11ms/step - loss: 0.5299 - acc: 0.8242 - val_loss: 0.3735 - val_acc: 0.8696\n",
      "Epoch 2/20\n",
      "1875/1875 [==============================] - ETA: 0s - loss: 0.3339 - acc: 0.8786\n",
      "Epoch 00002: val_loss improved from 0.37353 to 0.35393, saving model to my_checkpoint.ckpt\n",
      "1875/1875 [==============================] - 20s 11ms/step - loss: 0.3339 - acc: 0.8786 - val_loss: 0.3539 - val_acc: 0.8750\n",
      "Epoch 3/20\n",
      "1871/1875 [============================>.] - ETA: 0s - loss: 0.3000 - acc: 0.8893\n",
      "Epoch 00003: val_loss improved from 0.35393 to 0.32405, saving model to my_checkpoint.ckpt\n",
      "1875/1875 [==============================] - 21s 11ms/step - loss: 0.3001 - acc: 0.8893 - val_loss: 0.3240 - val_acc: 0.8810\n",
      "Epoch 4/20\n",
      "1872/1875 [============================>.] - ETA: 0s - loss: 0.2699 - acc: 0.9001\n",
      "Epoch 00004: val_loss improved from 0.32405 to 0.31853, saving model to my_checkpoint.ckpt\n",
      "1875/1875 [==============================] - 21s 11ms/step - loss: 0.2698 - acc: 0.9002 - val_loss: 0.3185 - val_acc: 0.8871\n",
      "Epoch 5/20\n",
      "1871/1875 [============================>.] - ETA: 0s - loss: 0.2521 - acc: 0.9084\n",
      "Epoch 00005: val_loss improved from 0.31853 to 0.29910, saving model to my_checkpoint.ckpt\n",
      "1875/1875 [==============================] - 22s 12ms/step - loss: 0.2522 - acc: 0.9084 - val_loss: 0.2991 - val_acc: 0.8931\n",
      "Epoch 6/20\n",
      "1872/1875 [============================>.] - ETA: 0s - loss: 0.2292 - acc: 0.9137\n",
      "Epoch 00006: val_loss improved from 0.29910 to 0.29840, saving model to my_checkpoint.ckpt\n",
      "1875/1875 [==============================] - 21s 11ms/step - loss: 0.2293 - acc: 0.9137 - val_loss: 0.2984 - val_acc: 0.8955\n",
      "Epoch 7/20\n",
      "1871/1875 [============================>.] - ETA: 0s - loss: 0.2132 - acc: 0.9204\n",
      "Epoch 00007: val_loss did not improve from 0.29840\n",
      "1875/1875 [==============================] - 21s 11ms/step - loss: 0.2132 - acc: 0.9204 - val_loss: 0.3044 - val_acc: 0.8951\n",
      "Epoch 8/20\n",
      "1874/1875 [============================>.] - ETA: 0s - loss: 0.2023 - acc: 0.9239\n",
      "Epoch 00008: val_loss did not improve from 0.29840\n",
      "1875/1875 [==============================] - 21s 11ms/step - loss: 0.2022 - acc: 0.9240 - val_loss: 0.3216 - val_acc: 0.8967\n",
      "Epoch 9/20\n",
      "1875/1875 [==============================] - ETA: 0s - loss: 0.1956 - acc: 0.9269\n",
      "Epoch 00009: val_loss did not improve from 0.29840\n",
      "1875/1875 [==============================] - 21s 11ms/step - loss: 0.1956 - acc: 0.9269 - val_loss: 0.3230 - val_acc: 0.8933\n",
      "Epoch 10/20\n",
      "1875/1875 [==============================] - ETA: 0s - loss: 0.1788 - acc: 0.9334\n",
      "Epoch 00010: val_loss did not improve from 0.29840\n",
      "1875/1875 [==============================] - 21s 11ms/step - loss: 0.1788 - acc: 0.9334 - val_loss: 0.3202 - val_acc: 0.8917\n",
      "Epoch 11/20\n",
      "1874/1875 [============================>.] - ETA: 0s - loss: 0.1711 - acc: 0.9360\n",
      "Epoch 00011: val_loss did not improve from 0.29840\n",
      "1875/1875 [==============================] - 21s 11ms/step - loss: 0.1711 - acc: 0.9360 - val_loss: 0.3509 - val_acc: 0.8921\n",
      "Epoch 12/20\n",
      "1873/1875 [============================>.] - ETA: 0s - loss: 0.1621 - acc: 0.9406\n",
      "Epoch 00012: val_loss did not improve from 0.29840\n",
      "1875/1875 [==============================] - 21s 11ms/step - loss: 0.1620 - acc: 0.9407 - val_loss: 0.3523 - val_acc: 0.8912\n",
      "Epoch 13/20\n",
      "1872/1875 [============================>.] - ETA: 0s - loss: 0.1519 - acc: 0.9432\n",
      "Epoch 00013: val_loss did not improve from 0.29840\n",
      "1875/1875 [==============================] - 21s 11ms/step - loss: 0.1520 - acc: 0.9431 - val_loss: 0.3586 - val_acc: 0.8973\n",
      "Epoch 14/20\n",
      "1873/1875 [============================>.] - ETA: 0s - loss: 0.1470 - acc: 0.9454\n",
      "Epoch 00014: val_loss did not improve from 0.29840\n",
      "1875/1875 [==============================] - 21s 11ms/step - loss: 0.1469 - acc: 0.9455 - val_loss: 0.3393 - val_acc: 0.8989\n",
      "Epoch 15/20\n",
      "1871/1875 [============================>.] - ETA: 0s - loss: 0.1412 - acc: 0.9477\n",
      "Epoch 00015: val_loss did not improve from 0.29840\n",
      "1875/1875 [==============================] - 21s 11ms/step - loss: 0.1412 - acc: 0.9477 - val_loss: 0.3322 - val_acc: 0.8976\n",
      "Epoch 16/20\n",
      "1872/1875 [============================>.] - ETA: 0s - loss: 0.1351 - acc: 0.9488\n",
      "Epoch 00016: val_loss did not improve from 0.29840\n",
      "1875/1875 [==============================] - 21s 11ms/step - loss: 0.1352 - acc: 0.9487 - val_loss: 0.3588 - val_acc: 0.9023\n",
      "Epoch 17/20\n",
      "1872/1875 [============================>.] - ETA: 0s - loss: 0.1312 - acc: 0.9518\n",
      "Epoch 00017: val_loss did not improve from 0.29840\n",
      "1875/1875 [==============================] - 21s 11ms/step - loss: 0.1311 - acc: 0.9518 - val_loss: 0.3804 - val_acc: 0.9020\n",
      "Epoch 18/20\n",
      "1873/1875 [============================>.] - ETA: 0s - loss: 0.1267 - acc: 0.9529\n",
      "Epoch 00018: val_loss did not improve from 0.29840\n",
      "1875/1875 [==============================] - 21s 11ms/step - loss: 0.1267 - acc: 0.9530 - val_loss: 0.4005 - val_acc: 0.8940\n",
      "Epoch 19/20\n",
      "1872/1875 [============================>.] - ETA: 0s - loss: 0.1201 - acc: 0.9552\n",
      "Epoch 00019: val_loss did not improve from 0.29840\n",
      "1875/1875 [==============================] - 21s 11ms/step - loss: 0.1202 - acc: 0.9552 - val_loss: 0.3799 - val_acc: 0.9000\n",
      "Epoch 20/20\n",
      "1872/1875 [============================>.] - ETA: 0s - loss: 0.1128 - acc: 0.9588\n",
      "Epoch 00020: val_loss did not improve from 0.29840\n",
      "1875/1875 [==============================] - 21s 11ms/step - loss: 0.1129 - acc: 0.9587 - val_loss: 0.4415 - val_acc: 0.8964\n"
     ]
    },
    {
     "name": "stderr",
     "output_type": "stream",
     "text": [
      "2022-07-11 23:49:09.750668: W tensorflow/python/util/util.cc:368] Sets are not currently considered sequences, but this may change in the future, so consider avoiding using them.\n"
     ]
    },
    {
     "name": "stdout",
     "output_type": "stream",
     "text": [
      "INFO:tensorflow:Assets written to: /var/folders/9c/dyfvcxrx45d7q0h1vnt_h6p40000gn/T/tmphhmnriic/model/data/model/assets\n"
     ]
    },
    {
     "name": "stderr",
     "output_type": "stream",
     "text": [
      "2022/07/11 23:49:12 WARNING mlflow.utils.autologging_utils: MLflow autologging encountered a warning: \"/Users/yhkoo/miniforge3/envs/deepLearning/lib/python3.8/site-packages/_distutils_hack/__init__.py:30: UserWarning: Setuptools is replacing distutils.\"\n",
      "2022-07-11 23:49:12.873920: I tensorflow/core/grappler/optimizers/custom_graph_optimizer_registry.cc:112] Plugin optimizer for device_type GPU is enabled.\n"
     ]
    },
    {
     "name": "stdout",
     "output_type": "stream",
     "text": [
      "313/313 [==============================] - 2s 7ms/step - loss: 0.2984 - acc: 0.8955\n",
      "eval_acc:  0.8955000638961792\n",
      "auc_score:  0.9377500000000001\n"
     ]
    }
   ],
   "source": [
    "# 학습 with MLFlow\n",
    "mlflow.set_experiment(\"TF_Keras_fashionMnist\")\n",
    "\n",
    "with mlflow.start_run():\n",
    "\n",
    "    mlflow.tensorflow.autolog()\n",
    "\n",
    "    model.fit(x_train, y_train,\n",
    "              validation_data = (x_test, y_test),\n",
    "              epochs = 20,\n",
    "              callbacks = [checkpoint],\n",
    "              )\n",
    "\n",
    "    model.load_weights(checkpoint_path)\n",
    "\n",
    "    preds = model.predict(x_test)\n",
    "    preds = np.round(preds)\n",
    "\n",
    "    eval_acc = model.evaluate(x_test, y_test)[1]\n",
    "    auc_score = roc_auc_score(y_test, preds, multi_class='raise')\n",
    "\n",
    "    print(\"eval_acc: \", eval_acc)\n",
    "    print(\"auc_score: \", auc_score)\n",
    "\n",
    "    mlflow.tensorflow.mlflow.log_metric('eval_acc', eval_acc)\n",
    "    mlflow.tensorflow.mlflow.log_metric('auc_score', auc_score)\n",
    "\n",
    "mlflow.end_run()"
   ],
   "metadata": {
    "collapsed": false,
    "pycharm": {
     "name": "#%%\n"
    }
   }
  },
  {
   "cell_type": "code",
   "execution_count": 9,
   "outputs": [
    {
     "name": "stdout",
     "output_type": "stream",
     "text": [
      "[2022-07-11 23:49:16 +0900] [1911] [INFO] Starting gunicorn 20.1.0\r\n",
      "[2022-07-11 23:49:16 +0900] [1911] [INFO] Listening at: http://127.0.0.1:9999 (1911)\r\n",
      "[2022-07-11 23:49:16 +0900] [1911] [INFO] Using worker: sync\r\n",
      "[2022-07-11 23:49:16 +0900] [1913] [INFO] Booting worker with pid: 1913\r\n",
      "^C\r\n",
      "[2022-07-11 23:52:18 +0900] [1911] [INFO] Handling signal: int\r\n",
      "[2022-07-11 23:52:18 +0900] [1913] [INFO] Worker exiting (pid: 1913)\r\n"
     ]
    }
   ],
   "source": [
    "!mlflow ui -p 9999"
   ],
   "metadata": {
    "collapsed": false,
    "pycharm": {
     "name": "#%%\n"
    }
   }
  },
  {
   "cell_type": "code",
   "execution_count": 10,
   "outputs": [],
   "source": [
    "#MLFlow 모델 적재\n",
    "loaded_model = mlflow.keras.load_model(\"runs:/a1ea43b0fc37472394ebd100f57cd58a/artifacts/model\")"
   ],
   "metadata": {
    "collapsed": false,
    "pycharm": {
     "name": "#%%\n"
    }
   }
  },
  {
   "cell_type": "code",
   "execution_count": 11,
   "outputs": [
    {
     "name": "stdout",
     "output_type": "stream",
     "text": [
      " 15/313 [>.............................] - ETA: 2s - loss: 0.3218 - acc: 0.9042"
     ]
    },
    {
     "name": "stderr",
     "output_type": "stream",
     "text": [
      "2022-07-11 23:52:19.689002: I tensorflow/core/grappler/optimizers/custom_graph_optimizer_registry.cc:112] Plugin optimizer for device_type GPU is enabled.\n"
     ]
    },
    {
     "name": "stdout",
     "output_type": "stream",
     "text": [
      "313/313 [==============================] - 3s 8ms/step - loss: 0.4096 - acc: 0.8966\n"
     ]
    },
    {
     "name": "stderr",
     "output_type": "stream",
     "text": [
      "2022-07-11 23:52:22.240990: I tensorflow/core/grappler/optimizers/custom_graph_optimizer_registry.cc:112] Plugin optimizer for device_type GPU is enabled.\n"
     ]
    },
    {
     "name": "stdout",
     "output_type": "stream",
     "text": [
      "Eval Loss:  0.4095974266529083\n",
      "Eval Acc:  0.896600067615509\n",
      "Eval Auc:  0.9409388888888888\n"
     ]
    }
   ],
   "source": [
    "eval_loss, eval_acc = loaded_model.evaluate(x_test, y_test)\n",
    "\n",
    "preds = loaded_model.predict(x_test)\n",
    "preds = np.round(preds)\n",
    "\n",
    "eval_auc = roc_auc_score(y_test, preds)\n",
    "\n",
    "print(\"Eval Loss: \", eval_loss)\n",
    "print(\"Eval Acc: \", eval_acc)\n",
    "print(\"Eval Auc: \", eval_auc)"
   ],
   "metadata": {
    "collapsed": false,
    "pycharm": {
     "name": "#%%\n"
    }
   }
  },
  {
   "cell_type": "code",
   "execution_count": null,
   "outputs": [],
   "source": [],
   "metadata": {
    "collapsed": false,
    "pycharm": {
     "name": "#%%\n"
    }
   }
  }
 ],
 "metadata": {
  "kernelspec": {
   "display_name": "Python 3",
   "language": "python",
   "name": "python3"
  },
  "language_info": {
   "codemirror_mode": {
    "name": "ipython",
    "version": 2
   },
   "file_extension": ".py",
   "mimetype": "text/x-python",
   "name": "python",
   "nbconvert_exporter": "python",
   "pygments_lexer": "ipython2",
   "version": "2.7.6"
  }
 },
 "nbformat": 4,
 "nbformat_minor": 0
}